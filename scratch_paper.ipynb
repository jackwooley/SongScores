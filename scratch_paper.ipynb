{
 "cells": [
  {
   "cell_type": "code",
   "execution_count": 142,
   "metadata": {},
   "outputs": [],
   "source": [
    "import pandas as pd\n",
    "import numpy as np\n",
    "import requests\n",
    "import config"
   ]
  },
  {
   "cell_type": "code",
   "execution_count": 143,
   "metadata": {},
   "outputs": [
    {
     "ename": "AttributeError",
     "evalue": "module 'config' has no attribute 'id_'",
     "output_type": "error",
     "traceback": [
      "\u001b[1;31m---------------------------------------------------------------------------\u001b[0m",
      "\u001b[1;31mAttributeError\u001b[0m                            Traceback (most recent call last)",
      "Cell \u001b[1;32mIn[143], line 2\u001b[0m\n\u001b[0;32m      1\u001b[0m \u001b[39m# AUTH CELL\u001b[39;00m\n\u001b[1;32m----> 2\u001b[0m CLIENT_ID \u001b[39m=\u001b[39m config\u001b[39m.\u001b[39;49mid_\n\u001b[0;32m      3\u001b[0m CLIENT_SECRET \u001b[39m=\u001b[39m config\u001b[39m.\u001b[39msecret\n\u001b[0;32m      4\u001b[0m AUTH_URL \u001b[39m=\u001b[39m \u001b[39m'\u001b[39m\u001b[39mhttps://accounts.spotify.com/api/token\u001b[39m\u001b[39m'\u001b[39m\n",
      "\u001b[1;31mAttributeError\u001b[0m: module 'config' has no attribute 'id_'"
     ]
    }
   ],
   "source": [
    "# AUTH CELL\n",
    "CLIENT_ID = config.id_\n",
    "CLIENT_SECRET = config.secret\n",
    "AUTH_URL = 'https://accounts.spotify.com/api/token'\n",
    "auth_response = requests.post(AUTH_URL, {\n",
    "    'grant_type': 'client_credentials',\n",
    "    'client_id': CLIENT_ID,\n",
    "    'client_secret': CLIENT_SECRET,\n",
    "})\n",
    "auth_response_data = auth_response.json()\n",
    "\n",
    "# save the access token\n",
    "access_token = auth_response_data['access_token']\n",
    "\n",
    "headers = {\n",
    "    'Authorization': f'Bearer {access_token}'#.format(token=access_token)\n",
    "}"
   ]
  },
  {
   "attachments": {},
   "cell_type": "markdown",
   "metadata": {},
   "source": [
    "### Roadmap\n",
    "\n",
    " - with a user's id, get a list of their playlists\n",
    " - take a playlist from the preceding list (or an individual track?) and get the artist # of followers and popularity; the artist's top tracks; the track's popularity (do this for each track in the playlist)\n",
    "  - calculate indieness metric (maybe like 1/log(followers) * track popularity or something like that) for each track\n",
    "   - aggregate all indieness scores (some sort of average, maybe the median?)"
   ]
  },
  {
   "cell_type": "code",
   "execution_count": 83,
   "metadata": {},
   "outputs": [],
   "source": [
    "base_url = 'https://api.spotify.com/v1/'"
   ]
  },
  {
   "cell_type": "code",
   "execution_count": 135,
   "metadata": {},
   "outputs": [
    {
     "ename": "AttributeError",
     "evalue": "module 'config' has no attribute 'friends'",
     "output_type": "error",
     "traceback": [
      "\u001b[1;31m---------------------------------------------------------------------------\u001b[0m",
      "\u001b[1;31mAttributeError\u001b[0m                            Traceback (most recent call last)",
      "Cell \u001b[1;32mIn[135], line 1\u001b[0m\n\u001b[1;32m----> 1\u001b[0m config\u001b[39m.\u001b[39;49mfriends\n",
      "\u001b[1;31mAttributeError\u001b[0m: module 'config' has no attribute 'friends'"
     ]
    }
   ],
   "source": [
    "config.friends"
   ]
  },
  {
   "cell_type": "code",
   "execution_count": 86,
   "metadata": {},
   "outputs": [],
   "source": [
    "returned = requests.get(f'{base_url}users/{friends[0]}/playlists', headers=headers)"
   ]
  },
  {
   "cell_type": "code",
   "execution_count": 87,
   "metadata": {},
   "outputs": [],
   "source": [
    "# get a list of their playlist ids (will be used soon to call dat aon their songs that compose each playlist)\n",
    "all_playlists = []\n",
    "for i in range(0, len(returned.json()['items'])):\n",
    "    all_playlists.append(returned.json()['items'][i]['id'])\n"
   ]
  },
  {
   "cell_type": "code",
   "execution_count": null,
   "metadata": {},
   "outputs": [],
   "source": [
    "all_playlists"
   ]
  },
  {
   "cell_type": "code",
   "execution_count": 92,
   "metadata": {},
   "outputs": [],
   "source": [
    "playlist = requests.get(f'{base_url}playlists/{all_playlists[0]}/tracks', headers=headers)"
   ]
  },
  {
   "cell_type": "code",
   "execution_count": 120,
   "metadata": {},
   "outputs": [
    {
     "name": "stdout",
     "output_type": "stream",
     "text": [
      "Mariella\n",
      "MONSOON\n",
      "No Ordinary Love\n",
      "Lovers Lane\n",
      "Jealousy\n",
      "Wurli\n",
      "Take You Higher - Radio Edit\n",
      "Weightless\n",
      "The Process\n",
      "Be Cool\n"
     ]
    }
   ],
   "source": [
    "songs = playlist.json()['items']\n",
    "song_ids = []\n",
    "artist_ids = {}\n",
    "for i in range(0, len(songs)):\n",
    "    song_ids.append(songs[i]['track']['id'])\n",
    "    print(songs[i]['track']['name'])\n",
    "    artists = songs[i]['track']['artists']\n",
    "    artist_id_values = []\n",
    "    # artist_key = songs[i]\n",
    "    for j in range(0, len(artists)):\n",
    "        # print(artists[j]['name'])\n",
    "        artist_id_values.append(artists[j]['id'])\n",
    "        artist_ids[songs[i]['track']['id']] = artist_id_values"
   ]
  },
  {
   "cell_type": "code",
   "execution_count": 121,
   "metadata": {},
   "outputs": [
    {
     "data": {
      "text/plain": [
       "{'3dvXRk7TZ929m21p49RR5P': ['2mVVjNmdjXZZDvhgQWiakk',\n",
       "  '3qnGvpP8Yth1AqSBMqON5x'],\n",
       " '5MomzGhToCDuNaRFPPmcpK': ['1uf6plWcu7QbKiASVlTUPa'],\n",
       " '1oaaSrDJimABpOdCEbw2DJ': ['47zz7sob9NUcODy0BTDvKx'],\n",
       " '5ZaG31xIdfINqxmqFyZR3Z': ['4A55B07fj8Dwb525T2vlqJ'],\n",
       " '1pHU8ttAqWRRGCvnoGOY3g': ['76rh78p0cww0l4OqgKabLQ'],\n",
       " '5MSshyHGM9ajWSEoBcR0jv': ['6USv9qhCn6zfxlBQIYJ9qs'],\n",
       " '1mnjvX52MpBtr0Dt4NvsHH': ['07EafuRJGR8zatcaf132UV',\n",
       "  '3iN9k8uvm4WrgdlOigOH8D'],\n",
       " '4syzriQO4gEZR61pU5FBFd': ['4kIwETcbpuFgRukE8o7Opx'],\n",
       " '0aeoV8KYkGPOxNaFsaHegU': ['49NfOTfSPhrb0sJBVYS1iM',\n",
       "  '065qyjvmeguYcKpAln7buu'],\n",
       " '3tB6YFd9UgvElnipIZMNLk': ['2Kv0ApBohrL213X9avMrEn',\n",
       "  '6Tyzp9KzpiZ04DABQoedps']}"
      ]
     },
     "execution_count": 121,
     "metadata": {},
     "output_type": "execute_result"
    }
   ],
   "source": [
    "# artists[1]['id'\n",
    "artist_ids"
   ]
  },
  {
   "cell_type": "code",
   "execution_count": 91,
   "metadata": {},
   "outputs": [
    {
     "ename": "SyntaxError",
     "evalue": "expected ':' (77790911.py, line 2)",
     "output_type": "error",
     "traceback": [
      "\u001b[1;36m  Cell \u001b[1;32mIn[91], line 2\u001b[1;36m\u001b[0m\n\u001b[1;33m    for spong in songs\u001b[0m\n\u001b[1;37m                      ^\u001b[0m\n\u001b[1;31mSyntaxError\u001b[0m\u001b[1;31m:\u001b[0m expected ':'\n"
     ]
    }
   ],
   "source": [
    "songs[0]['track']['artists']\n",
    "for spong in songs"
   ]
  },
  {
   "cell_type": "code",
   "execution_count": 8,
   "metadata": {},
   "outputs": [
    {
     "data": {
      "text/plain": [
       "50"
      ]
     },
     "execution_count": 8,
     "metadata": {},
     "output_type": "execute_result"
    }
   ],
   "source": [
    "listt=list(range(0, 10))\n",
    "listt = listt * 5\n",
    "len(listt)\n",
    "listt[0:51]"
   ]
  },
  {
   "cell_type": "code",
   "execution_count": 16,
   "metadata": {},
   "outputs": [
    {
     "data": {
      "text/plain": [
       "3"
      ]
     },
     "execution_count": 16,
     "metadata": {},
     "output_type": "execute_result"
    }
   ],
   "source": [
    "listt.append(5)\n",
    "listt_=[1,1,2]\n",
    "# len(listt) % 10\n",
    "len(listt_)"
   ]
  },
  {
   "cell_type": "code",
   "execution_count": 30,
   "metadata": {},
   "outputs": [
    {
     "name": "stdout",
     "output_type": "stream",
     "text": [
      "yup\n",
      "2\n",
      "4\n",
      "5\n",
      "4\n",
      "5\n"
     ]
    },
    {
     "data": {
      "text/plain": [
       "[[0,\n",
       "  1,\n",
       "  2,\n",
       "  3,\n",
       "  4,\n",
       "  5,\n",
       "  6,\n",
       "  7,\n",
       "  8,\n",
       "  9,\n",
       "  0,\n",
       "  1,\n",
       "  2,\n",
       "  3,\n",
       "  4,\n",
       "  5,\n",
       "  6,\n",
       "  7,\n",
       "  8,\n",
       "  9,\n",
       "  0,\n",
       "  1,\n",
       "  2,\n",
       "  3,\n",
       "  4,\n",
       "  5,\n",
       "  6,\n",
       "  7,\n",
       "  8,\n",
       "  9,\n",
       "  0,\n",
       "  1,\n",
       "  2,\n",
       "  3,\n",
       "  4,\n",
       "  5,\n",
       "  6,\n",
       "  7,\n",
       "  8,\n",
       "  9,\n",
       "  0,\n",
       "  1,\n",
       "  2,\n",
       "  3,\n",
       "  4,\n",
       "  5,\n",
       "  6,\n",
       "  7,\n",
       "  8,\n",
       "  9],\n",
       " [12]]"
      ]
     },
     "execution_count": 30,
     "metadata": {},
     "output_type": "execute_result"
    }
   ],
   "source": [
    "id_list = list(range(0, 10)) * 5\n",
    "id_list.append(12)\n",
    "\n",
    "if len(id_list) > 50:  # if the list is longer than 50 members, figure out how many API calls to make\n",
    "    print('yup')\n",
    "    if len(id_list) % 50 != 0:\n",
    "        how_many_times = (len(id_list) / 50) + 1\n",
    "        print('2')\n",
    "    else:\n",
    "        how_many_times = len(id_list) / 50\n",
    "        print('3')\n",
    "    \n",
    "    start = 0\n",
    "    end = 50\n",
    "\n",
    "    nested_list = []\n",
    "\n",
    "    for i in range(0, int(how_many_times)):\n",
    "        print('4')\n",
    "        nested_list.append(id_list[start:end])\n",
    "        start += 50  # increment to get the next values starting at 50\n",
    "        if end + 50 > len(id_list):\n",
    "            print('5')\n",
    "            end = len(id_list)\n",
    "        else:\n",
    "            print('6')\n",
    "            end += 50\n",
    "nested_list"
   ]
  },
  {
   "cell_type": "code",
   "execution_count": 28,
   "metadata": {},
   "outputs": [
    {
     "data": {
      "text/plain": [
       "[12]"
      ]
     },
     "execution_count": 28,
     "metadata": {},
     "output_type": "execute_result"
    }
   ],
   "source": [
    "gh = list(range(0, 10)) * 5\n",
    "gh.append(12)\n",
    "gh[0:50]\n",
    "gh[50:len(gh)]"
   ]
  }
 ],
 "metadata": {
  "kernelspec": {
   "display_name": ".venv",
   "language": "python",
   "name": "python3"
  },
  "language_info": {
   "codemirror_mode": {
    "name": "ipython",
    "version": 3
   },
   "file_extension": ".py",
   "mimetype": "text/x-python",
   "name": "python",
   "nbconvert_exporter": "python",
   "pygments_lexer": "ipython3",
   "version": "3.10.0"
  },
  "orig_nbformat": 4
 },
 "nbformat": 4,
 "nbformat_minor": 2
}
