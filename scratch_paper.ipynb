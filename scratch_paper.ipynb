{
 "cells": [
  {
   "cell_type": "code",
   "execution_count": 20,
   "metadata": {},
   "outputs": [],
   "source": [
    "import pandas as pd\n",
    "import numpy as np\n",
    "import requests"
   ]
  },
  {
   "cell_type": "code",
   "execution_count": null,
   "metadata": {},
   "outputs": [],
   "source": [
    "# AUTH CELL\n",
    "CLIENT_ID = ''\n",
    "CLIENT_SECRET = ''\n",
    "AUTH_URL = 'https://accounts.spotify.com/api/token'\n",
    "auth_response = requests.post(AUTH_URL, {\n",
    "    'grant_type': 'client_credentials',\n",
    "    'client_id': CLIENT_ID,\n",
    "    'client_secret': CLIENT_SECRET,\n",
    "})\n",
    "auth_response_data = auth_response.json()\n",
    "\n",
    "# save the access token\n",
    "access_token = auth_response_data['access_token']\n",
    "\n",
    "headers = {\n",
    "    'Authorization': f'Bearer {access_token}'#.format(token=access_token)\n",
    "}"
   ]
  },
  {
   "attachments": {},
   "cell_type": "markdown",
   "metadata": {},
   "source": [
    "### Roadmap\n",
    "\n",
    " - with a user's id, get a list of their playlists\n",
    " - take a playlist from the preceding list (or an individual track?) and get the artist # of followers and popularity; the artist's top tracks; the track's popularity (do this for each track in the playlist)\n",
    "  - calculate indieness metric (maybe like 1/log(followers) * track popularity or something like that) for each track\n",
    "   - aggregate all indieness scores (some sort of average, maybe the median?)"
   ]
  },
  {
   "cell_type": "code",
   "execution_count": 83,
   "metadata": {},
   "outputs": [],
   "source": [
    "base_url = 'https://api.spotify.com/v1/'"
   ]
  },
  {
   "cell_type": "code",
   "execution_count": 123,
   "metadata": {},
   "outputs": [],
   "source": [
    "friends = []"
   ]
  },
  {
   "cell_type": "code",
   "execution_count": 86,
   "metadata": {},
   "outputs": [],
   "source": [
    "returned = requests.get(f'{base_url}users/{friends[0]}/playlists', headers=headers)"
   ]
  },
  {
   "cell_type": "code",
   "execution_count": 87,
   "metadata": {},
   "outputs": [],
   "source": [
    "# get a list of their playlist ids (will be used soon to call dat aon their songs that compose each playlist)\n",
    "all_playlists = []\n",
    "for i in range(0, len(returned.json()['items'])):\n",
    "    all_playlists.append(returned.json()['items'][i]['id'])\n"
   ]
  },
  {
   "cell_type": "code",
   "execution_count": null,
   "metadata": {},
   "outputs": [],
   "source": [
    "all_playlists"
   ]
  },
  {
   "cell_type": "code",
   "execution_count": 92,
   "metadata": {},
   "outputs": [],
   "source": [
    "playlist = requests.get(f'{base_url}playlists/{all_playlists[0]}/tracks', headers=headers)"
   ]
  },
  {
   "cell_type": "code",
   "execution_count": 120,
   "metadata": {},
   "outputs": [
    {
     "name": "stdout",
     "output_type": "stream",
     "text": [
      "Mariella\n",
      "MONSOON\n",
      "No Ordinary Love\n",
      "Lovers Lane\n",
      "Jealousy\n",
      "Wurli\n",
      "Take You Higher - Radio Edit\n",
      "Weightless\n",
      "The Process\n",
      "Be Cool\n"
     ]
    }
   ],
   "source": [
    "songs = playlist.json()['items']\n",
    "song_ids = []\n",
    "artist_ids = {}\n",
    "for i in range(0, len(songs)):\n",
    "    song_ids.append(songs[i]['track']['id'])\n",
    "    print(songs[i]['track']['name'])\n",
    "    artists = songs[i]['track']['artists']\n",
    "    artist_id_values = []\n",
    "    # artist_key = songs[i]\n",
    "    for j in range(0, len(artists)):\n",
    "        # print(artists[j]['name'])\n",
    "        artist_id_values.append(artists[j]['id'])\n",
    "        artist_ids[songs[i]['track']['id']] = artist_id_values"
   ]
  },
  {
   "cell_type": "code",
   "execution_count": 121,
   "metadata": {},
   "outputs": [
    {
     "data": {
      "text/plain": [
       "{'3dvXRk7TZ929m21p49RR5P': ['2mVVjNmdjXZZDvhgQWiakk',\n",
       "  '3qnGvpP8Yth1AqSBMqON5x'],\n",
       " '5MomzGhToCDuNaRFPPmcpK': ['1uf6plWcu7QbKiASVlTUPa'],\n",
       " '1oaaSrDJimABpOdCEbw2DJ': ['47zz7sob9NUcODy0BTDvKx'],\n",
       " '5ZaG31xIdfINqxmqFyZR3Z': ['4A55B07fj8Dwb525T2vlqJ'],\n",
       " '1pHU8ttAqWRRGCvnoGOY3g': ['76rh78p0cww0l4OqgKabLQ'],\n",
       " '5MSshyHGM9ajWSEoBcR0jv': ['6USv9qhCn6zfxlBQIYJ9qs'],\n",
       " '1mnjvX52MpBtr0Dt4NvsHH': ['07EafuRJGR8zatcaf132UV',\n",
       "  '3iN9k8uvm4WrgdlOigOH8D'],\n",
       " '4syzriQO4gEZR61pU5FBFd': ['4kIwETcbpuFgRukE8o7Opx'],\n",
       " '0aeoV8KYkGPOxNaFsaHegU': ['49NfOTfSPhrb0sJBVYS1iM',\n",
       "  '065qyjvmeguYcKpAln7buu'],\n",
       " '3tB6YFd9UgvElnipIZMNLk': ['2Kv0ApBohrL213X9avMrEn',\n",
       "  '6Tyzp9KzpiZ04DABQoedps']}"
      ]
     },
     "execution_count": 121,
     "metadata": {},
     "output_type": "execute_result"
    }
   ],
   "source": [
    "# artists[1]['id'\n",
    "artist_ids"
   ]
  },
  {
   "cell_type": "code",
   "execution_count": 91,
   "metadata": {},
   "outputs": [
    {
     "ename": "SyntaxError",
     "evalue": "expected ':' (77790911.py, line 2)",
     "output_type": "error",
     "traceback": [
      "\u001b[1;36m  Cell \u001b[1;32mIn[91], line 2\u001b[1;36m\u001b[0m\n\u001b[1;33m    for spong in songs\u001b[0m\n\u001b[1;37m                      ^\u001b[0m\n\u001b[1;31mSyntaxError\u001b[0m\u001b[1;31m:\u001b[0m expected ':'\n"
     ]
    }
   ],
   "source": [
    "songs[0]['track']['artists']\n",
    "for spong in songs"
   ]
  },
  {
   "cell_type": "code",
   "execution_count": null,
   "metadata": {},
   "outputs": [],
   "source": []
  }
 ],
 "metadata": {
  "kernelspec": {
   "display_name": ".venv",
   "language": "python",
   "name": "python3"
  },
  "language_info": {
   "codemirror_mode": {
    "name": "ipython",
    "version": 3
   },
   "file_extension": ".py",
   "mimetype": "text/x-python",
   "name": "python",
   "nbconvert_exporter": "python",
   "pygments_lexer": "ipython3",
   "version": "3.10.0"
  },
  "orig_nbformat": 4
 },
 "nbformat": 4,
 "nbformat_minor": 2
}
